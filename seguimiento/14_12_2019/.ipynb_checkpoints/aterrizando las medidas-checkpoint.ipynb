{
 "cells": [
  {
   "cell_type": "markdown",
   "metadata": {},
   "source": [
    "# Aterrizando las medidas"
   ]
  },
  {
   "cell_type": "markdown",
   "metadata": {},
   "source": [
    "## Algunas medidas ##\n",
    "\n",
    "A continuación se muestran algunas medias que pueden ser de utilidad en la identificacion de ataques DDoS:\n",
    "\n",
    "\n",
    "| Caracteristicas        | Tipos de ataque         | \n",
    "| ------------- | ------------- | \n",
    "| Packet rate   | Flooding DDoS | \n",
    "| Percentage of ICMP packet     | icmp flooding      | \n",
    "| Percentage of TCP packet      |  tcp flooding      |   \n",
    "| Percentage of UDP packet      | udp flooding | \n",
    "| Percentage of SYN/ACK/RST     | DDoS      | \n",
    "| Distribution of IP address    | DDoS | \n",
    "| Interval of arriving packet   | DDoS    | \n",
    "| Duration of each flow/session | SYN flooding      |   \n",
    "| Packets/bytes per flow Flooding  | DDoS | \n",
    "| Percentage of single flow     | DDoS      | \n",
    " \n"
   ]
  },
  {
   "attachments": {},
   "cell_type": "markdown",
   "metadata": {},
   "source": [
    "### ICMP flood ###\n",
    "\n",
    "\n",
    "![wireshark_icmp_flood](wireshark_icmp_flood.png)\n",
    "\n",
    "\n",
    "Graficas I/O\n",
    "\n",
    "Packet rate\n",
    "\n",
    "Filtro: icmp, icmp6\n",
    "Eje Y: Packets/tick  \n",
    "\n",
    "![packet_rate](icmp_flood_packets_seg.png)\n",
    "\n",
    "\n",
    "Summary\n",
    "\n",
    "![summary](summary_icmp_flood.png)\n",
    "\n",
    "\n"
   ]
  },
  {
   "attachments": {},
   "cell_type": "markdown",
   "metadata": {},
   "source": [
    "packet_length.csv\n",
    "\n",
    "![packet_len](packet_len.png)"
   ]
  },
  {
   "cell_type": "markdown",
   "metadata": {},
   "source": [
    "\n",
    "\n",
    "In the SYN flood attack scenario, what is happening is that:\n",
    "- The client is sending very fast SYN; it has received the SYN-ACK but doesn’t\n",
    "respond with the final ACK\n",
    "- Alternatively, the client is sending very fast SYN and blocking the SYN-ACK from\n",
    "the server, or the client is sending very fast SYN from a spoofed IP address so the\n",
    "SYN-ACK is sent to an unknown host that virtually doesn’t exist\n",
    "\n",
    "In all these scenarios, the TCP/IP stack file descriptors are consumed, causing the server to\n",
    "slow down and finally crash.\n",
    "\n",
    "\n",
    "\n"
   ]
  },
  {
   "cell_type": "code",
   "execution_count": null,
   "metadata": {},
   "outputs": [],
   "source": []
  }
 ],
 "metadata": {
  "kernelspec": {
   "display_name": "Python 2",
   "language": "python",
   "name": "python2"
  },
  "language_info": {
   "codemirror_mode": {
    "name": "ipython",
    "version": 3
   },
   "file_extension": ".py",
   "mimetype": "text/x-python",
   "name": "python",
   "nbconvert_exporter": "python",
   "pygments_lexer": "ipython3",
   "version": "3.4.6"
  }
 },
 "nbformat": 4,
 "nbformat_minor": 2
}
