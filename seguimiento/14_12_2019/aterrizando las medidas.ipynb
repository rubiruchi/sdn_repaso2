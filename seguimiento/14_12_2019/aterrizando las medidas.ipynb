{
 "cells": [
  {
   "cell_type": "markdown",
   "metadata": {},
   "source": [
    "# Aterrizando las medidas"
   ]
  },
  {
   "cell_type": "markdown",
   "metadata": {},
   "source": [
    "## Algunas medidas ##\n",
    "\n",
    "A continuación se muestran algunas medias que pueden ser de utilidad en la identificacion de ataques DDoS:\n",
    "\n",
    "\n",
    "| Caracteristicas        | Tipos de ataque         | \n",
    "| ------------- | ------------- | \n",
    "| Packet rate   | Flooding DDoS | \n",
    "| Percentage of ICMP packet     | icmp flooding      | \n",
    "| Percentage of TCP packet      |  tcp flooding      |   \n",
    "| Percentage of UDP packet      | udp flooding | \n",
    "| Percentage of SYN/ACK/RST     | DDoS      | \n",
    "| Distribution of IP address    | DDoS | \n",
    "| Interval of arriving packet   | DDoS    | \n",
    "| Duration of each flow/session | SYN flooding      |   \n",
    "| Packets/bytes per flow Flooding  | DDoS | \n",
    "| Percentage of single flow     | DDoS      | \n",
    " \n"
   ]
  },
  {
   "attachments": {},
   "cell_type": "markdown",
   "metadata": {},
   "source": [
    "### ICMP flood ###\n",
    "\n",
    "\n",
    "![wireshark_icmp_flood](wireshark_icmp_flood.png)\n",
    "\n",
    "\n",
    "Graficas I/O\n",
    "\n",
    "Packet rate\n",
    "\n",
    "Filtro: icmp, icmp6\n",
    "Eje Y: Packets/tick  \n",
    "\n",
    "![packet_rate](icmp_flood_packets_seg.png)\n",
    "\n",
    "\n",
    "Summary\n",
    "\n",
    "![summary](summary_icmp_flood.png)\n",
    "\n",
    "\n"
   ]
  },
  {
   "attachments": {},
   "cell_type": "markdown",
   "metadata": {},
   "source": [
    "packet_length.csv\n",
    "\n",
    "![packet_len](packet_len.png)"
   ]
  },
  {
   "cell_type": "markdown",
   "metadata": {},
   "source": [
    "\n",
    "\n",
    "In the SYN flood attack scenario, what is happening is that:\n",
    "- The client is sending very fast SYN; it has received the SYN-ACK but doesn’t\n",
    "respond with the final ACK\n",
    "- Alternatively, the client is sending very fast SYN and blocking the SYN-ACK from\n",
    "the server, or the client is sending very fast SYN from a spoofed IP address so the\n",
    "SYN-ACK is sent to an unknown host that virtually doesn’t exist\n",
    "\n",
    "In all these scenarios, the TCP/IP stack file descriptors are consumed, causing the server to\n",
    "slow down and finally crash.\n",
    "\n",
    "The IO graph statistics show the following summary:\n",
    "The TCP connection never closes as there is no count for tcp.flags.fin\n",
    "The TCP connection never exchanges any data as there is no count for\n",
    "tcp.flags.push\n",
    "The count of SYN packets is very high\n",
    "The count of ACK is half of that of the SYN packets\n",
    "\n",
    "tcp.flags.syn == 1\n",
    "tcp.flags.ack == 1\n",
    "tcp.flags.fin == 1\n",
    "tcp.flags.push == 1\n",
    "\n",
    "![io_synflood](io_syn_flood.png) \n",
    "\n",
    "\n",
    "In real scenarios, this data will be mixed up with actual packet flows, but the analysis\n",
    "technique will remain the same. The moment you see an unexpected growth in SYN\n",
    "packets or a spike in SYN packets, it’s a SYN flood from DoS or from the multiple-source\n",
    "DDoS.\n",
    "\n",
    "![syn_flag](sum_syn_flag.png) \n",
    "\n",
    "![ack_flag](sum_ack_flag.png) \n",
    "\n",
    "statistics > conversations --- \n",
    "TCP: 539298\n",
    "tcp.flag.syn == 1: -- Aun no lo tengo\n",
    "tcp.flag.ack == 1: 83\n",
    "\n",
    "Statistics > End point List > TCP\n",
    "\n",
    "Asi mismo hay en todal: 65537 endpoints\n",
    "\n",
    "Statistics > End point List > IP\n",
    "\n",
    "Dos conversaciones\n",
    "\n",
    "Statistics > IPV4 statistics > Destination and ports (Para el caso dado no se aplico filtro)\n",
    "\n",
    "![ipv4_statistics](ipv4_statistics.png)"
   ]
  },
  {
   "cell_type": "markdown",
   "metadata": {},
   "source": [
    "**Interval arriving packet**:\n",
    "\n",
    "* https://www.wireshark.org/lists/wireshark-users/200701/msg00120.html\n",
    "* https://osqa-ask.wireshark.org/questions/13441/plot-arrival-time-of-udp-packets\n",
    "* https://osqa-ask.wireshark.org/questions/30812/how-to-filter-inter-packet-arrival-time\n",
    "\n",
    "* https://osqa-ask.wireshark.org/questions/53373/rtp-time-delta-from-previous-packet\n",
    "* https://www.wireshark.org/docs/wsug_html_chunked/ChUsePacketListPaneSection.html\n",
    "* https://osqa-ask.wireshark.org/questions/14995/get-packet-from-wireshark-from-cet-time-1600-to-1700"
   ]
  },
  {
   "cell_type": "markdown",
   "metadata": {},
   "source": [
    "### Enlaces ###\n",
    "\n",
    "https://github.com/moranzcw/Computer-Networking-A-Top-Down-Approach-NOTES    "
   ]
  },
  {
   "cell_type": "code",
   "execution_count": null,
   "metadata": {},
   "outputs": [],
   "source": []
  }
 ],
 "metadata": {
  "kernelspec": {
   "display_name": "Python 2",
   "language": "python",
   "name": "python2"
  },
  "language_info": {
   "codemirror_mode": {
    "name": "ipython",
    "version": 3
   },
   "file_extension": ".py",
   "mimetype": "text/x-python",
   "name": "python",
   "nbconvert_exporter": "python",
   "pygments_lexer": "ipython3",
   "version": "3.4.6"
  }
 },
 "nbformat": 4,
 "nbformat_minor": 2
}
