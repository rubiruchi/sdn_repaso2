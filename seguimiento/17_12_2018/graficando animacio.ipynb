{
 "cells": [
  {
   "cell_type": "markdown",
   "metadata": {},
   "source": [
    "# Animacion"
   ]
  },
  {
   "cell_type": "markdown",
   "metadata": {},
   "source": [
    "* https://github.com/uccmisl/MiniNAM/blob/master/MiniNAM.py\n",
    "* https://www.ucc.ie/en/misl//research/software/mininam/\n",
    "* https://github.com/tigarto/2018-1/tree/master/ensayo1/\n"
   ]
  },
  {
   "cell_type": "markdown",
   "metadata": {},
   "source": [
    "Comandos:\n",
    "\n",
    "* Controlador:\n",
    "\n",
    "```bash\n",
    "cd $HOME/pox\n",
    "./pox.py log.level --DEBUG forwarding.l2_learning \n",
    "```\n",
    "\n",
    "* Topologia:\n",
    "\n",
    "```bash\n",
    "sudo python MiniNAM.py --topo single,3 --controller remote\n",
    "```\n",
    "\n",
    "Al parecer ya dio con este caso. Ahora el objetivo seria mirarlo con una topologia un poco mas compleja como la del test.\n",
    "\n",
    "\n"
   ]
  },
  {
   "cell_type": "code",
   "execution_count": null,
   "metadata": {},
   "outputs": [],
   "source": []
  }
 ],
 "metadata": {
  "kernelspec": {
   "display_name": "Python 2",
   "language": "python",
   "name": "python2"
  },
  "language_info": {
   "codemirror_mode": {
    "name": "ipython",
    "version": 3
   },
   "file_extension": ".py",
   "mimetype": "text/x-python",
   "name": "python",
   "nbconvert_exporter": "python",
   "pygments_lexer": "ipython3",
   "version": "3.4.6"
  }
 },
 "nbformat": 4,
 "nbformat_minor": 2
}
