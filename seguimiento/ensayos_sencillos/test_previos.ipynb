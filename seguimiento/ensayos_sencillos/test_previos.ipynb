{
 "cells": [
  {
   "cell_type": "markdown",
   "metadata": {},
   "source": [
    "# Test sencillos con wireshark "
   ]
  },
  {
   "cell_type": "markdown",
   "metadata": {},
   "source": [
    "## Test 1 "
   ]
  },
  {
   "cell_type": "markdown",
   "metadata": {},
   "source": [
    "### Topologia"
   ]
  },
  {
   "cell_type": "markdown",
   "metadata": {},
   "source": [
    "![single_topo](single2_topo.png)"
   ]
  },
  {
   "cell_type": "markdown",
   "metadata": {},
   "source": [
    "**Comando de construcción**:\n",
    "\n",
    "```\n",
    "sudo mn --mac --link tc,bw=10,delay=10ms\n",
    "```"
   ]
  },
  {
   "cell_type": "markdown",
   "metadata": {},
   "source": [
    "**Procedimiento de test**:\n",
    "1. Se carga la topologia con el comando de construcción. Para el caso se ejecutaron algunos comandos para conocer las mac de los elementos:\n",
    "\n",
    "```\n",
    "containernet> py h1.MAC()\n",
    "00:00:00:00:00:01\n",
    "containernet> py h2.MAC()\n",
    "00:00:00:00:00:02\n",
    "containernet> py s1.intfs\n",
    "{0: <Intf lo>, 1: <TCIntf s1-eth1>, 2: <TCIntf s1-eth2>}\n",
    "containernet> py s1.intfs[1].MAC()\n",
    "d2:78:8b:8b:12:ca\n",
    "containernet> py s1.intfs[2].MAC()\n",
    "86:36:2d:3c:c7:36\n",
    "```\n",
    "\n",
    "\n",
    "2. Se abre wireshark y se eligen los puntos de captura y se empieza a capturar.\n",
    "\n",
    "**Puntos de captura**: \n",
    "  * s1-eth1\n",
    "\n",
    "**Filtros**:\n",
    "  * Para el trafico iperf: ```tcp``` \n",
    "  * Para el trafico ping: ```icmp```\n",
    "\n",
    "3. Se ejecuta el comando iperf en containernet.\n",
    "\n",
    "```\n",
    "# Aplicación del comando iperf #\n",
    "containernet> iperf\n",
    "*** Iperf: testing TCP bandwidth between h1 and h2 \n",
    "*** Results: ['9.50 Mbits/sec', '12.0 Mbits/sec']\n",
    "\n",
    "# Aplicación del comando ping #\n",
    "\n",
    "containernet> h1 ping -c 10 h2\n",
    "PING 10.0.0.2 (10.0.0.2) 56(84) bytes of data.\n",
    "64 bytes from 10.0.0.2: icmp_seq=1 ttl=64 time=41.5 ms\n",
    "64 bytes from 10.0.0.2: icmp_seq=2 ttl=64 time=40.4 ms\n",
    "64 bytes from 10.0.0.2: icmp_seq=3 ttl=64 time=40.2 ms\n",
    "64 bytes from 10.0.0.2: icmp_seq=4 ttl=64 time=40.2 ms\n",
    "64 bytes from 10.0.0.2: icmp_seq=5 ttl=64 time=40.2 ms\n",
    "64 bytes from 10.0.0.2: icmp_seq=6 ttl=64 time=40.2 ms\n",
    "64 bytes from 10.0.0.2: icmp_seq=7 ttl=64 time=40.2 ms\n",
    "64 bytes from 10.0.0.2: icmp_seq=8 ttl=64 time=40.1 ms\n",
    "64 bytes from 10.0.0.2: icmp_seq=9 ttl=64 time=40.2 ms\n",
    "64 bytes from 10.0.0.2: icmp_seq=10 ttl=64 time=40.2 ms\n",
    "\n",
    "--- 10.0.0.2 ping statistics ---\n",
    "10 packets transmitted, 10 received, 0% packet loss, time 9010ms\n",
    "rtt min/avg/max/mdev = 40.193/40.397/41.581/0.402 ms\n",
    "\n",
    "```\n",
    "\n",
    "4. Despues de que se obtienen los resultados se detiene la captura."
   ]
  },
  {
   "cell_type": "code",
   "execution_count": 18,
   "metadata": {},
   "outputs": [
    {
     "name": "stdout",
     "output_type": "stream",
     "text": [
      "Primeros datos de la tabla\n",
      "\n",
      "   Interval start  bits/seg\n",
      "0               0       0.0\n",
      "1               1       0.0\n",
      "2               2       0.0\n",
      "3               3       0.0\n",
      "4               4       0.0\n",
      "\n",
      "Ultimos datos de la tabla\n",
      "\n",
      "    Interval start    bits/seg\n",
      "64              64  10004500.0\n",
      "65              65   9993980.0\n",
      "66              66  10005600.0\n",
      "67              67  10004500.0\n",
      "68              68   2475580.0\n",
      "\n",
      "\n"
     ]
    },
    {
     "data": {
      "image/png": "[encoded data removed]",
      "text/plain": [
       "<Figure size 432x288 with 1 Axes>"
      ]
     },
     "metadata": {},
     "output_type": "display_data"
    }
   ],
   "source": [
    "import pandas as pd\n",
    "import matplotlib.pyplot as plt\n",
    "\n",
    "df = pd.read_csv(\"iperf_trafic_test1.csv\")\n",
    "print(\"Primeros datos de la tabla\\n\")\n",
    "print(df.head())\n",
    "print(\"\\nUltimos datos de la tabla\\n\")\n",
    "print(df.tail())\n",
    "print(\"\\n\")\n",
    "fig, ax = plt.subplots()\n",
    "t = df['Interval start']\n",
    "bps = df['bits/seg']\n",
    "ax.plot(t, bps)\n",
    "ax.set(xlabel='time (s)', ylabel='Bits por segundo',\n",
    "       title='Trafico iperf (Filtrando solo a paquetes tcp)')\n",
    "ax.grid()\n",
    "\n",
    "plt.show()"
   ]
  },
  {
   "cell_type": "markdown",
   "metadata": {},
   "source": [
    "A continuación se muestra la grafica obtenida de wireshark:\n",
    "\n",
    "![perf_trafico_single2](iperf_trafico_single2)"
   ]
  },
  {
   "cell_type": "code",
   "execution_count": 17,
   "metadata": {},
   "outputs": [
    {
     "name": "stdout",
     "output_type": "stream",
     "text": [
      "Primeros datos de la tabla\n",
      "\n",
      "   Interval start  bits/seg\n",
      "0               0         0\n",
      "1               1         0\n",
      "2               2         0\n",
      "3               3         0\n",
      "4               4         0\n",
      "\n",
      "Ultimos datos de la tabla\n",
      "\n",
      "     Interval start  bits/seg\n",
      "112             112      1568\n",
      "113             113      1568\n",
      "114             114      1568\n",
      "115             115      1568\n",
      "116             116      1568\n",
      "\n",
      "\n"
     ]
    },
    {
     "data": {
      "image/png": "[encoded data removed]",
      "text/plain": [
       "<Figure size 432x288 with 1 Axes>"
      ]
     },
     "metadata": {},
     "output_type": "display_data"
    }
   ],
   "source": [
    "# Captura para los datos ping\n",
    "df2 = pd.read_csv(\"ping_traffic_test1.csv\")\n",
    "\n",
    "print(\"Primeros datos de la tabla\\n\")\n",
    "print(df2.head())\n",
    "print(\"\\nUltimos datos de la tabla\\n\")\n",
    "print(df2.tail())\n",
    "print(\"\\n\")\n",
    "\n",
    "fig, ax = plt.subplots()\n",
    "t = df2['Interval start']\n",
    "bps = df2['bits/seg']\n",
    "ax.plot(t, bps)\n",
    "ax.set(xlabel='time (s)', ylabel='Bits por segundo',\n",
    "       title='Trafico iperf (Filtrando solo a paquetes tcp)')\n",
    "ax.grid()\n",
    "\n",
    "plt.show()"
   ]
  },
  {
   "cell_type": "markdown",
   "metadata": {},
   "source": [
    "La captura en wireshark:\n",
    "\n",
    "![figura](ping_trafico_single2)"
   ]
  },
  {
   "cell_type": "markdown",
   "metadata": {},
   "source": [
    "### Conclusiones "
   ]
  },
  {
   "cell_type": "markdown",
   "metadata": {},
   "source": [
    "1. Ahora si se ve para el caso una mejor correspondencia entre lo mostrado por el iperf de wirewhark con lo mostrado en  mininet.\n",
    "2. El iperf envia ordas de trafico tcp.\n",
    "3. Definir los filtros para la captura de trafico es una tarea muy importante."
   ]
  },
  {
   "cell_type": "markdown",
   "metadata": {},
   "source": [
    "### Preguntas"
   ]
  },
  {
   "cell_type": "markdown",
   "metadata": {},
   "source": [
    "1. ¿Como cambia la cosa al someterse el problema a un ataque de denegación de servicio por floodind? El siguiente experimento trata de mostrar esto."
   ]
  },
  {
   "cell_type": "markdown",
   "metadata": {},
   "source": [
    "## Test 2 "
   ]
  },
  {
   "cell_type": "markdown",
   "metadata": {},
   "source": [
    "### Topologia "
   ]
  },
  {
   "cell_type": "markdown",
   "metadata": {},
   "source": [
    "![single_topo3](single3_topo.png)"
   ]
  },
  {
   "cell_type": "markdown",
   "metadata": {},
   "source": [
    "**Comando de construcción**:\n",
    "\n",
    "```\n",
    "sudo mn --mac --topo single,3 --link tc,bw=10,delay=10ms\n",
    "```\n",
    "\n",
    "**Donde**:\n",
    "* **Atacante**: h1\n",
    "* **Victima**: h3\n",
    "* **Cliente**: h2\n",
    "\n",
    "**Comando de ataque**:\n",
    "\n",
    "```\n",
    "hping3 --flood --rand-source 10.0.0.3\n",
    "```"
   ]
  },
  {
   "cell_type": "markdown",
   "metadata": {},
   "source": [
    "**Procedimiento de test**:\n",
    "1. Se carga la topologia con el comando de construcción. Para el caso se ejecutaron algunos comandos para conocer las mac de los elementos:\n",
    "\n",
    "```\n",
    "containernet> py s1.intfs\n",
    "{0: <Intf lo>, 1: <TCIntf s1-eth1>, 2: <TCIntf s1-eth2>, 3: <TCIntf s1-eth3>}\n",
    "containernet> py s1.intfs[1].MAC()\n",
    "7e:91:c0:4b:43:a4\n",
    "containernet> py s1.intfs[2].MAC()\n",
    "ae:8c:f9:5e:5c:3e\n",
    "containernet> py s1.intfs[3].MAC()\n",
    "be:77:91:d1:a7:c7\n",
    "containernet> xterm h1, h2\n",
    "```\n",
    "\n",
    "2. Se abre wireshark y se eligen los puntos de captura y se empieza a capturar.\n",
    "\n",
    "**Puntos de captura**: \n",
    "  * s1-eth1\n",
    "  * s1-eth2\n",
    "  * s1-eth3\n",
    "  \n",
    "**Filtros**:\n",
    "  * Para el trafico del ataque: ```tcp``` \n",
    "  * Para el trafico icmp request asociado al ping: ```icmp.type==8 && ip.src==10.0.0.2 && ip.dst==10.0.0.3```\n",
    "  * Para el trafico icmp reply asociado al ping: ```icmp.type==0 && ip.src==10.0.0.3 && ip.dst==10.0.0.2```\n",
    "\n",
    "3. Pruebas.\n",
    "\n",
    "Se ejecuto el comando ping en h2 antes de lanzar el ataque:\n",
    "\n",
    "```\n",
    "root@fuck-pc:~/Documents/tesis_2018-2/sdn_repaso/code/analisis_articulos/articu\n",
    "lacion_experimental/articulo1/ensayos_sencillos# ping -c 2 10.0.0.3\n",
    "PING 10.0.0.3 (10.0.0.3) 56(84) bytes of data.\n",
    "64 bytes from 10.0.0.3: icmp_seq=1 ttl=64 time=40.8 ms\n",
    "64 bytes from 10.0.0.3: icmp_seq=2 ttl=64 time=40.3 ms\n",
    "\n",
    "--- 10.0.0.3 ping statistics ---\n",
    "2 packets transmitted, 2 received, 0% packet loss, time 1001ms\n",
    "rtt min/avg/max/mdev = 40.340/40.614/40.888/0.274 ms\n",
    "root@fuck-pc:~/Documents/tesis_2018-2/sdn_repaso/code/analisis_articulos/articu\n",
    "lacion_experimental/articulo1/ensayos_sencillos# ping -c 2 10.0.0.3\n",
    "PING 10.0.0.3 (10.0.0.3) 56(84) bytes of data.\n",
    "64 bytes from 10.0.0.3: icmp_seq=1 ttl=64 time=40.2 ms\n",
    "64 bytes from 10.0.0.3: icmp_seq=2 ttl=64 time=40.0 ms\n",
    "\n",
    "--- 10.0.0.3 ping statistics ---\n",
    "2 packets transmitted, 2 received, 0% packet loss, time 1001ms\n",
    "rtt min/avg/max/mdev = 40.068/40.161/40.255/0.221 ms\n",
    "\n",
    "```\n",
    "\n",
    "Se empezo la ejecución del ataque desde h3:\n",
    "\n",
    "\n",
    "```\n",
    "root@fuck-pc:~/Documents/tesis_2018-2/sdn_repaso/code/analisis_articulos/articu\n",
    "lacion_experimental/articulo1/ensayos_sencillos# hping3 --flood --rand-source 1\n",
    "0.0.0.3\n",
    "HPING 10.0.0.3 (h1-eth0 10.0.0.3): NO FLAGS are set, 40 headers + 0 data bytes\n",
    "hping in flood mode, no replies will be shown`\n",
    "\n",
    "```\n",
    "\n",
    "Se mandaron dos pings desde el cliente (h2):\n",
    "\n",
    "\n",
    "```\n",
    "lacion_experimental/articulo1/ensayos_sencillos# ping -c 2 10.0.0.3\n",
    "PING 10.0.0.3 (10.0.0.3) 56(84) bytes of data.\n",
    "64 bytes from 10.0.0.3: icmp_seq=1 ttl=64 time=40.2 ms\n",
    "64 bytes from 10.0.0.3: icmp_seq=2 ttl=64 time=40.0 ms\n",
    "\n",
    "--- 10.0.0.3 ping statistics ---\n",
    "2 packets transmitted, 2 received, 0% packet loss, time 1001ms\n",
    "rtt min/avg/max/mdev = 40.068/40.161/40.255/0.221 ms\n",
    "root@fuck-pc:~/Documents/tesis_2018-2/sdn_repaso/code/analisis_articulos/ar\n",
    "lacion_experimental/articulo1/ensayos_sencillos# ping -c 10 10.0.0.3\n",
    "PING 10.0.0.3 (10.0.0.3) 56(84) bytes of data.\n",
    "^C\n",
    "--- 10.0.0.3 ping statistics ---\n",
    "10 packets transmitted, 0 received, 100% packet loss, time 9217ms\n",
    "\n",
    "root@fuck-pc:~/Documents/tesis_2018-2/sdn_repaso/code/analisis_articulos/ar\n",
    "lacion_experimental/articulo1/ensayos_sencillos# ping -c 2 10.0.0.3\n",
    "PING 10.0.0.3 (10.0.0.3) 56(84) bytes of data.\n",
    "\n",
    "--- 10.0.0.3 ping statistics ---\n",
    "2 packets transmitted, 0 received, 100% packet loss, time 1014ms\n",
    "\n",
    "```\n",
    "\n",
    "Se detuvo el ataque en h3:\n",
    "\n",
    "```\n",
    "...\n",
    "^C\n",
    "--- 10.0.0.3 hping statistic ---\n",
    "12959508 packets transmitted, 0 packets received, 100% packet loss\n",
    "round-trip min/avg/max = 0.0/0.0/0.0 ms\n",
    "root@fuck-pc:~/Documents/tesis_2018-2/sdn_repaso/code/analisis_articulos/articu\n",
    "lacion_experimental/articulo1/ensayos_sencillos# \n",
    "```\n",
    "\n",
    "Como se puede ver se mandaron hasta el momento 12959508, como la captura en wireshark no aguanta este voltaje y solo habia impreso hasta 528969 (por lo menos creo) se paro.\n",
    "\n",
    "4. Despues de que se obtienen los resultados se detiene la captura.\n",
    "\n",
    "Teniendo en cuenta los siguientes filtros:\n",
    "  * **Para el trafico del ataque (color verde)**: ```tcp``` \n",
    "  * **Para el trafico icmp request asociado al ping (color azul)**: ```icmp.type==8 && ip.src==10.0.0.2 && ip.dst==10.0.0.3```\n",
    "  * **Para el trafico icmp request reply al ping (color rojo)**: ```icmp.type==0 && ip.src==10.0.0.3 && ip.dst==10.0.0.2```\n",
    "\n",
    "A continuación se muestran las graficas mas relevantes:\n",
    "\n",
    "![flood_test2](flood_test2.png)\n",
    "\n",
    "La grafica anterior muestra en verde todos los paquetes TCP principalmente lanzados desde el atacante.\n",
    "\n",
    "![flood_ping_test2](flood_ping_test2.png)\n",
    "\n",
    "La grafica anterior resalta mas los request y las respuestas del ping, se puede notar la incapacidad de obtener respuestas ante los requerimientos cuando el ataque se hace mas fuerte.\n"
   ]
  },
  {
   "cell_type": "markdown",
   "metadata": {},
   "source": [
    "### Conclusiones "
   ]
  },
  {
   "cell_type": "markdown",
   "metadata": {},
   "source": [
    "1. Se pudo ver el efecto del ataque en la perdida de paquetes tipo ping.\n",
    "2. Es necesario determinar que filtros establecer para un mejor analisis con miras a mirar que monitorear en el sistema cuanto este se implemente.\n",
    "3. Aun falta ver como relacionar esto con **iperf**"
   ]
  },
  {
   "cell_type": "markdown",
   "metadata": {},
   "source": [
    "### Preguntas "
   ]
  },
  {
   "cell_type": "markdown",
   "metadata": {},
   "source": [
    "1. Tiene coherencia aqui probar **iperf** sabiendose que aqui tambien se inyecta grafico tcp.\n",
    "2. ¿Como seria que se realizara el iperf entre cliente y atacante?, ¿corre el riesgo de que pase lo del ping?, ¿por eso lo que salió?\n",
    "3. ¿Que pasa despues de que se detiene el ataque, aun se puede hacer ping entre los hosts, el switch se jode?"
   ]
  },
  {
   "cell_type": "markdown",
   "metadata": {},
   "source": [
    "## Test 3 "
   ]
  },
  {
   "cell_type": "markdown",
   "metadata": {},
   "source": [
    "### Topologia "
   ]
  },
  {
   "cell_type": "markdown",
   "metadata": {},
   "source": [
    "![topologia_test_art1](topologia_test_art1.png)"
   ]
  },
  {
   "cell_type": "markdown",
   "metadata": {},
   "source": [
    "**Pendiente**:\n",
    "1. Inicialmente replicar lo de smallko.\n",
    "2. Mirar la parte en la cual se lleva a cabo la automatización."
   ]
  },
  {
   "cell_type": "markdown",
   "metadata": {},
   "source": [
    "## Referencias "
   ]
  },
  {
   "cell_type": "markdown",
   "metadata": {},
   "source": [
    "1. http://mininet.org/walkthrough/\n",
    "2. https://github.com/mininet/mininet/wiki/Introduction-to-Mininet\n",
    "3. https://github.com/mininet/mininet/tree/master/examples"
   ]
  }
 ],
 "metadata": {
  "kernelspec": {
   "display_name": "Python 2",
   "language": "python",
   "name": "python2"
  },
  "language_info": {
   "codemirror_mode": {
    "name": "ipython",
    "version": 3
   },
   "file_extension": ".py",
   "mimetype": "text/x-python",
   "name": "python",
   "nbconvert_exporter": "python",
   "pygments_lexer": "ipython3",
   "version": "3.4.6"
  }
 },
 "nbformat": 4,
 "nbformat_minor": 2
}
