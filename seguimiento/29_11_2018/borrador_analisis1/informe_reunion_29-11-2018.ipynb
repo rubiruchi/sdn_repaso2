{
 "cells": [
  {
   "cell_type": "markdown",
   "metadata": {},
   "source": [
    "# Perfilamiento de trafico de test"
   ]
  },
  {
   "cell_type": "markdown",
   "metadata": {},
   "source": [
    "## Test 1 "
   ]
  },
  {
   "cell_type": "markdown",
   "metadata": {},
   "source": [
    "**Descripcion**: Modificación de los tiempos de resultados de captura en el servidor iperf."
   ]
  },
  {
   "cell_type": "markdown",
   "metadata": {},
   "source": [
    "**Ataque**: Flooding y spoofing"
   ]
  },
  {
   "cell_type": "markdown",
   "metadata": {},
   "source": [
    "```python\n",
    "a.cmdPrint('hping3 --flood --rand-source', str(victima.IP()), \" &\")\n",
    "```"
   ]
  },
  {
   "cell_type": "markdown",
   "metadata": {},
   "source": [
    "Disminución del intervalo de impresión en el servidor iperf."
   ]
  },
  {
   "cell_type": "markdown",
   "metadata": {},
   "source": [
    "```python\n",
    "hosts_iperf[1].cmdPrint('iperf', '-s', '-i', '0.1',\n",
    "                        '>', outfile,\n",
    "                        '&')\n",
    "```"
   ]
  },
  {
   "cell_type": "markdown",
   "metadata": {},
   "source": [
    "Para este caso el archivo de salida se muestra a continuación:"
   ]
  },
  {
   "cell_type": "markdown",
   "metadata": {},
   "source": [
    "```\n",
    "------------------------------------------------------------\n",
    "Server listening on TCP port 5001\n",
    "TCP window size: 85.3 KByte (default)\n",
    "------------------------------------------------------------\n",
    "[  4] local 10.0.0.8 port 5001 connected with 10.0.0.1 port 59970\n",
    "[ ID] Interval       Transfer     Bandwidth\n",
    "[  4]  0.0- 0.5 sec   581 KBytes  9.52 Mbits/sec\n",
    "[  4]  0.5- 1.0 sec   585 KBytes  9.59 Mbits/sec\n",
    "[  4]  1.0- 1.5 sec   581 KBytes  9.52 Mbits/sec\n",
    "[  4]  1.5- 2.0 sec   581 KBytes  9.52 Mbits/sec\n",
    "[  4]  2.0- 2.5 sec   584 KBytes  9.57 Mbits/sec\n",
    "[  4]  2.5- 3.0 sec   583 KBytes  9.55 Mbits/sec\n",
    "[  4]  3.0- 3.5 sec   584 KBytes  9.57 Mbits/sec\n",
    "[  4]  3.5- 4.0 sec   584 KBytes  9.57 Mbits/sec\n",
    "[  4]  4.0- 4.5 sec   584 KBytes  9.57 Mbits/sec\n",
    "[  4]  4.5- 5.0 sec   584 KBytes  9.57 Mbits/sec\n",
    "[  4]  5.0- 5.5 sec   584 KBytes  9.57 Mbits/sec\n",
    "[  4]  5.5- 6.0 sec   583 KBytes  9.55 Mbits/sec\n",
    "[  4]  6.0- 6.5 sec   584 KBytes  9.57 Mbits/sec\n",
    "[  4]  6.5- 7.0 sec   584 KBytes  9.57 Mbits/sec\n",
    "[  4]  7.0- 7.5 sec   584 KBytes  9.57 Mbits/sec\n",
    "[  4]  7.5- 8.0 sec   581 KBytes  9.52 Mbits/sec\n",
    "```"
   ]
  },
  {
   "cell_type": "markdown",
   "metadata": {},
   "source": [
    "La conclusión es que el tiempo de captura al parecer en nada tiene que ver, pues como se nota, aproximadamente aproximadamente a los 8 segundos se dejan de imprimir valores, lo cual podria interpretarse posiblemente como una caida en el ancho de banda."
   ]
  },
  {
   "cell_type": "markdown",
   "metadata": {},
   "source": [
    "Veamos ahora el iperf con 5s"
   ]
  },
  {
   "cell_type": "markdown",
   "metadata": {},
   "source": [
    "```python\n",
    "hosts_iperf[1].cmdPrint('iperf', '-s', '-i', '5',\n",
    "                        '>', outfile,\n",
    "                        '&')\n",
    "```"
   ]
  },
  {
   "cell_type": "markdown",
   "metadata": {},
   "source": [
    "```\n",
    "------------------------------------------------------------\n",
    "Server listening on TCP port 5001\n",
    "TCP window size: 85.3 KByte (default)\n",
    "------------------------------------------------------------\n",
    "[  4] local 10.0.0.8 port 5001 connected with 10.0.0.1 port 60250\n",
    "[ ID] Interval       Transfer     Bandwidth\n",
    "[  4]  0.0- 5.0 sec  5.70 MBytes  9.56 Mbits/sec\n",
    "```"
   ]
  },
  {
   "cell_type": "markdown",
   "metadata": {},
   "source": [
    "El resultado anterior parece confirmar la suposición. Es probable que a los 8 segundos el ancho de banda se vaya a 0 abruptamente. Sin embargo esta conclusion aun es difusa y no se tienen elementos "
   ]
  },
  {
   "cell_type": "markdown",
   "metadata": {},
   "source": [
    "## Test 2 "
   ]
  },
  {
   "cell_type": "markdown",
   "metadata": {},
   "source": [
    "**Descripcion**: Modificación del ancho de banda del enlace entre los hosts y los switches de modo que sean igual, para el caso 1Gbps. Para el caso se va a manejar tambien un tiempo de captura de 0.1 seg en el servidor iperf. De la misma manera, el ataque involucrará flooding y spoofing."
   ]
  },
  {
   "cell_type": "markdown",
   "metadata": {},
   "source": [
    "**Sobre el ancho de banda**:"
   ]
  },
  {
   "cell_type": "markdown",
   "metadata": {},
   "source": [
    "```python\n",
    "for i in irange(1, nSwitch):\n",
    "    switch = self.addSwitch('s%s' % i)\n",
    "    for j in irange(h + 1, h + nHosts):\n",
    "        # Ancho de banda entre host y swiches: bw = 1 Gbps\n",
    "        host = self.addHost('h%s' % j)\n",
    "        self.addLink(switch, host, bw = 1000)\n",
    "    if lastSwitch:\n",
    "        # Ancho de banda entre swiches: bw = 1 Gbps\n",
    "        self.addLink(switch, lastSwitch, bw = 1000)\n",
    "        lastSwitch = switch\n",
    "    h += nHosts\n",
    "```"
   ]
  },
  {
   "cell_type": "markdown",
   "metadata": {},
   "source": [
    "**Sobre el ataque**:"
   ]
  },
  {
   "cell_type": "markdown",
   "metadata": {},
   "source": [
    "```python\n",
    "a.cmdPrint('hping3 --flood --rand-source', str(victima.IP()), \" &\")\n",
    "```"
   ]
  },
  {
   "cell_type": "markdown",
   "metadata": {},
   "source": [
    "**Sobre la medición en el servido iperf**:"
   ]
  },
  {
   "cell_type": "markdown",
   "metadata": {},
   "source": [
    "```python\n",
    "hosts_iperf[1].cmdPrint('iperf', '-s', '-i', '0.1',\n",
    "                        '>', outfile,\n",
    "                        '&')\n",
    "```"
   ]
  },
  {
   "cell_type": "markdown",
   "metadata": {},
   "source": [
    "**Sobre la salida**: Tal y como se pudo observar, la modificación del ancho de banda no altero los resultados respecto al tiempo en el cual se alcanzo el tope. **Aun no se logran establecer las causas de tal resultado**."
   ]
  },
  {
   "cell_type": "markdown",
   "metadata": {},
   "source": [
    "```\n",
    "------------------------------------------------------------\n",
    "Server listening on TCP port 5001\n",
    "TCP window size: 85.3 KByte (default)\n",
    "------------------------------------------------------------\n",
    "[  4] local 10.0.0.8 port 5001 connected with 10.0.0.1 port 50816\n",
    "[ ID] Interval       Transfer     Bandwidth\n",
    "[  4]  0.0- 0.5 sec  56.9 MBytes   954 Mbits/sec\n",
    "[  4]  0.5- 1.0 sec  56.6 MBytes   950 Mbits/sec\n",
    "[  4]  1.0- 1.5 sec  56.9 MBytes   954 Mbits/sec\n",
    "[  4]  1.5- 2.0 sec  56.7 MBytes   951 Mbits/sec\n",
    "[  4]  2.0- 2.5 sec  57.0 MBytes   956 Mbits/sec\n",
    "[  4]  2.5- 3.0 sec  56.5 MBytes   948 Mbits/sec\n",
    "[  4]  3.0- 3.5 sec  56.4 MBytes   946 Mbits/sec\n",
    "[  4]  3.5- 4.0 sec  56.6 MBytes   950 Mbits/sec\n",
    "[  4]  4.0- 4.5 sec  56.5 MBytes   948 Mbits/sec\n",
    "[  4]  4.5- 5.0 sec  56.9 MBytes   954 Mbits/sec\n",
    "[  4]  5.0- 5.5 sec  56.9 MBytes   955 Mbits/sec\n",
    "[  4]  5.5- 6.0 sec  56.7 MBytes   952 Mbits/sec\n",
    "[  4]  6.0- 6.5 sec  56.9 MBytes   954 Mbits/sec\n",
    "[  4]  6.5- 7.0 sec  56.9 MBytes   955 Mbits/sec\n",
    "[  4]  7.0- 7.5 sec  56.3 MBytes   945 Mbits/sec\n",
    "[  4]  7.5- 8.0 sec  56.8 MBytes   953 Mbits/sec\n",
    "```"
   ]
  },
  {
   "cell_type": "markdown",
   "metadata": {},
   "source": [
    "## Archivo wireshark"
   ]
  },
  {
   "cell_type": "markdown",
   "metadata": {},
   "source": [
    "### Obteniendo el ancho de banda"
   ]
  },
  {
   "cell_type": "markdown",
   "metadata": {},
   "source": [
    "Ver: http://blog.davidvassallo.me/2010/03/22/measuring-bandwidth-using-wireshark/"
   ]
  },
  {
   "cell_type": "markdown",
   "metadata": {},
   "source": [
    "(ip.addr == 10.0.0.8 and ip.addr == 10.0.0.1) and (tcp.port == 5001 and tcp.port == 53572)\n",
    "\n",
    "\n",
    "\n",
    "ip.addr == 10.0.0.5\n",
    "\n",
    "https://insights.profitap.com/14-powerful-wireshark-filters-to-use\n",
    "https://www.lifewire.com/wireshark-tutorial-4143298\n",
    "https://www.elastic.co/blog/analyzing-network-packets-with-wireshark-elasticsearch-and-kibana\n",
    "https://dzone.com/articles/monitoring-with-prometheus\n",
    "https://blog.sflow.com/2011/11/wireshark.html\n",
    "\n",
    "Ver cosas con tshark\n",
    "https://github.com/ricklupton/floweaver\n",
    "\n",
    "count bytes per second wireshark io graph\n",
    "https://www.wireshark.org/docs/wsug_html_chunked/ChStatIOGraphs.html\n",
    "\n",
    "https://osqa-ask.wireshark.org/questions/63477/io-graph-bits-or-bytes-per-second"
   ]
  }
 ],
 "metadata": {
  "kernelspec": {
   "display_name": "Python 2",
   "language": "python",
   "name": "python2"
  },
  "language_info": {
   "codemirror_mode": {
    "name": "ipython",
    "version": 3
   },
   "file_extension": ".py",
   "mimetype": "text/x-python",
   "name": "python",
   "nbconvert_exporter": "python",
   "pygments_lexer": "ipython3",
   "version": "3.4.6"
  }
 },
 "nbformat": 4,
 "nbformat_minor": 2
}
