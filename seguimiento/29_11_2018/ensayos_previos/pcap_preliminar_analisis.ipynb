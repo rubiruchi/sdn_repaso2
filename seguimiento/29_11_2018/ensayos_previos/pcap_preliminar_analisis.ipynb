{
 "cells": [
  {
   "cell_type": "markdown",
   "metadata": {},
   "source": [
    "# Analisis archivos pcap"
   ]
  },
  {
   "cell_type": "markdown",
   "metadata": {},
   "source": [
    "## Topologia "
   ]
  },
  {
   "cell_type": "markdown",
   "metadata": {},
   "source": [
    "En la siguiente figura se muestra la topologia del experimento. Para el caso y por simplicidad se confuran todos los enlaces a 10 Mbsp."
   ]
  },
  {
   "cell_type": "markdown",
   "metadata": {},
   "source": [
    "![topologia](topologia_test_art1.png)"
   ]
  },
  {
   "cell_type": "markdown",
   "metadata": {},
   "source": [
    "En el archivo [test_analisis_pcap.py](test_analisis_pcap.py) se encuentra el codigo que describe la topologia y lanza algunas pruebas."
   ]
  },
  {
   "cell_type": "markdown",
   "metadata": {},
   "source": [
    "## Pruebas "
   ]
  },
  {
   "cell_type": "markdown",
   "metadata": {},
   "source": [
    "A continuación se describen las pruebas que se llevaron a cabo"
   ]
  },
  {
   "cell_type": "markdown",
   "metadata": {},
   "source": [
    "### Prueba 1"
   ]
  },
  {
   "cell_type": "markdown",
   "metadata": {},
   "source": [
    "**Resumen**: Se analizó la salida del comando iperf de mininet entre h1 y h8 sin inyectar trafico.\n",
    "\n",
    "**Codigo test**: \n",
    "\n",
    "```python\n",
    "\n",
    "def test_iperf():\n",
    "    topo = TopoTest()\n",
    "    net = Mininet(topo=topo, link=TCLink)\n",
    "    net.start()\n",
    "    net.iperf()\n",
    "    net.pingAll()\n",
    "    net.stop()\n",
    "```\n",
    "\n",
    "**Salida en pantalla**:\n",
    "\n",
    "```\n",
    "*** Iperf: testing TCP bandwidth between h1 and h8 \n",
    "*** Results: ['9.56 Mbits/sec', '10.4 Mbits/sec']\n",
    "```"
   ]
  },
  {
   "cell_type": "markdown",
   "metadata": {},
   "source": [
    "### Prueba 2"
   ]
  },
  {
   "cell_type": "markdown",
   "metadata": {},
   "source": [
    "**Resumen**: Se analizó la salida del comando iperf de mininet entre h1 y h8 sin inyectar trafico. Adicionalmente se capturó el trafico entre estos dos hosts empleando wireshark (Captura: [iperf2_test.pcap](iperf2_test.pcap)). \n",
    "\n",
    "**Codigo test**: \n",
    "\n",
    "```python\n",
    "\n",
    "def test_iperf2():\n",
    "    topo = TopoTest()\n",
    "    net = Mininet(topo=topo, link=TCLink)\n",
    "    net.start()\n",
    "    sleep(30)\n",
    "    net.iperf()\n",
    "    net.stop()\n",
    "    \n",
    "```\n",
    "\n",
    "**Salida en pantalla**: no se tomó\n",
    "\n",
    "**Grafica de bps**:\n",
    "\n",
    "![IO_graph_iperf](IO_graph_iperf.png)\n",
    "\n",
    "**Datos grafica**: [iperf2_bps.csv](iperf2_bps.csv)\n",
    "\n",
    "```csv\n",
    "\"Interval start\",\"Graph 2\"\n",
    "\"0.000\",\"560\"\n",
    "\"1.000\",\"490\"\n",
    "\"2.000\",\"140\"\n",
    "\"3.000\",\"609\"\n",
    "\"4.000\",\"203\"\n",
    "\"5.000\",\"0\"\n",
    "\"6.000\",\"0\"\n",
    "\"7.000\",\"0\"\n",
    "\"8.000\",\"0\"\n",
    "\"9.000\",\"0\"\n",
    "\"10.000\",\"0\"\n",
    "\"11.000\",\"0\"\n",
    "\"12.000\",\"0\"\n",
    "\"13.000\",\"0\"\n",
    "\"14.000\",\"420\"\n",
    "\"15.000\",\"140\"\n",
    "\"16.000\",\"140\"\n",
    "\"17.000\",\"777054\"\n",
    "\"18.000\",\"2440230\"\n",
    "\"19.000\",\"2437667\"\n",
    "\"20.000\",\"2437533\"\n",
    "\"21.000\",\"2442784\"\n",
    "\"22.000\",\"2446376\"\n",
    "\"23.000\",\"412572\"\n",
    "```\n"
   ]
  },
  {
   "cell_type": "markdown",
   "metadata": {},
   "source": [
    "### Prueba 3"
   ]
  },
  {
   "cell_type": "markdown",
   "metadata": {},
   "source": [
    "**Resumen**: Se analizó la salida cuando se lanza un ataque de spoofing desde h1 y h8. Adicionalmente se capturó el trafico entre estos dos hosts empleando wireshark (Captura: [spoof_attack.pcap](spoof_attack.pcap)). \n",
    "\n",
    "**Codigo test**: \n",
    "\n",
    "```python\n",
    "\n",
    "def test_spoof_attack():\n",
    "    topo = TopoTest()\n",
    "    net = Mininet(topo=topo, link=TCLink)\n",
    "    net.start()\n",
    "    net_links = net.links\n",
    "    for l in net_links:\n",
    "        print l\n",
    "    sleep(20)  # Tiempo para configurar wireshark\n",
    "    net.get('h1').cmdPrint('hping3 --rand-source', str(net.get('h8').IP()), \"&\")\n",
    "    sleep(60)\n",
    "    net.stop()\n",
    "    \n",
    "```\n",
    "\n",
    "**Salida en pantalla**: no se tomó\n",
    "\n",
    "**Grafica de bps**:\n",
    "\n",
    "![IO_graph_spoof](IO_graph_spoof.png)\n",
    "\n",
    "**Datos grafica**: [spoof_bps.csv](spoof_bps.csv)\n",
    "\n",
    "```csv\n",
    "\"Interval start\",\"All\",\"ip.addr==10.0.0.8\"\n",
    "\"0.000\",\"420\",\"0\"\n",
    "\"1.000\",\"630\",\"0\"\n",
    "\"2.000\",\"70\",\"0\"\n",
    "\"3.000\",\"483\",\"0\"\n",
    "\"4.000\",\"609\",\"0\"\n",
    "\"5.000\",\"0\",\"0\"\n",
    "\"6.000\",\"0\",\"0\"\n",
    "\"7.000\",\"0\",\"0\"\n",
    "\"8.000\",\"276\",\"108\"\n",
    "\"9.000\",\"108\",\"108\"\n",
    "\"10.000\",\"108\",\"108\"\n",
    "\"11.000\",\"108\",\"108\"\n",
    "\"12.000\",\"108\",\"108\"\n",
    "...\n",
    "```\n"
   ]
  },
  {
   "cell_type": "markdown",
   "metadata": {},
   "source": [
    "### Prueba 4"
   ]
  },
  {
   "cell_type": "markdown",
   "metadata": {},
   "source": [
    "**Resumen**: Se analizó la salida cuando se lanza un ataque de flooding desde h1 y h8. Adicionalmente se capturó el trafico entre estos dos hosts empleando wireshark (Captura: [flood_attack.pcap](flood_attack.pcap)). \n",
    "\n",
    "**Codigo test**: \n",
    "\n",
    "```python\n",
    "\n",
    "def test_flood_attack():\n",
    "    topo = TopoTest()\n",
    "    net = Mininet(topo=topo, link=TCLink)\n",
    "    net.start()\n",
    "    net_links = net.links\n",
    "    for l in net_links:\n",
    "        print l\n",
    "    sleep(20)  # Tiempo para configurar wireshark\n",
    "    net.get('h1').cmdPrint('hping3 --flood', str(net.get('h8').IP()), \"&\")\n",
    "    sleep(60)\n",
    "    net.stop()\n",
    "    \n",
    "```\n",
    "\n",
    "**Salida en pantalla**: no se tomó\n",
    "\n",
    "**Grafica de bps**:\n",
    "\n",
    "![IO_graph_flood](IO_graph_flood.png)\n",
    "\n",
    "**Datos grafica**: [flood_bps.csv](flood_bps.csv)\n",
    "\n",
    "```csv\n",
    "\"Interval start\",\"all\",\"ip.addr==10.0.0.8\"\n",
    "\"0.000\",\"630\",\"0\"\n",
    "\"1.000\",\"420\",\"0\"\n",
    "\"2.000\",\"350\",\"0\"\n",
    "\"3.000\",\"406\",\"0\"\n",
    "\"4.000\",\"406\",\"0\"\n",
    "\"5.000\",\"0\",\"0\"\n",
    "\"6.000\",\"0\",\"0\"\n",
    "\"7.000\",\"87810\",\"87642\"\n",
    "\"8.000\",\"1091610\",\"1091610\"\n",
    "\"9.000\",\"1254312\",\"1254312\"\n",
    "\"10.000\",\"1234440\",\"1234440\"\n",
    "\"11.000\",\"1120068\",\"1120068\"\n",
    "\"12.000\",\"1135944\",\"1135944\"\n",
    "\"13.000\",\"1303386\",\"1303344\"\n",
    "\"14.000\",\"1102754\",\"1102572\"\n",
    "...\n",
    "```\n"
   ]
  },
  {
   "cell_type": "markdown",
   "metadata": {},
   "source": [
    "**Resumen**: Se analizó la salida cuando se lanza un ataque de flooding desde h1 y h8. Adicionalmente se capturó el trafico entre estos dos hosts empleando wireshark (Captura: [flood_spoof_attack.pcap](flood_spoof_attack.pcap)). \n",
    "\n",
    "**Codigo test**: \n",
    "\n",
    "```python\n",
    "\n",
    "def test_flood_attack():\n",
    "    topo = TopoTest()\n",
    "    net = Mininet(topo=topo, link=TCLink)\n",
    "    net.start()\n",
    "    net_links = net.links\n",
    "    for l in net_links:\n",
    "        print l\n",
    "    sleep(20)  # Tiempo para configurar wireshark\n",
    "    net.get('h1').cmdPrint('hping3 --flood', str(net.get('h8').IP()), \"&\")\n",
    "    sleep(60)\n",
    "    net.stop()\n",
    "    \n",
    "```\n",
    "\n",
    "**Salida en pantalla**: no se tomó\n",
    "\n",
    "**Grafica de bps**:\n",
    "\n",
    "![IO_graph_flood_spoof_attack](IO_graph_flood_spoof.png)\n",
    "\n",
    "**Datos grafica**: [flood_spoof_bps.csv](flood_bps.csv)\n",
    "\n",
    "```csv\n",
    "\"Interval start\",\"all\",\"ip.addr==10.0.0.8\"\n",
    "\"0.000\",\"840\",\"0\"\n",
    "\"1.000\",\"560\",\"0\"\n",
    "\"2.000\",\"0\",\"0\"\n",
    "\"3.000\",\"609\",\"0\"\n",
    "\"4.000\",\"203\",\"0\"\n",
    "\"5.000\",\"0\",\"0\"\n",
    "\"6.000\",\"0\",\"0\"\n",
    "\"7.000\",\"63888\",\"63720\"\n",
    "\"8.000\",\"1058940\",\"1058940\"\n",
    "\"9.000\",\"1178874\",\"1178874\"\n",
    "\"10.000\",\"930690\",\"930690\"\n",
    "...\n",
    "```\n"
   ]
  }
 ],
 "metadata": {
  "kernelspec": {
   "display_name": "Python 2",
   "language": "python",
   "name": "python2"
  },
  "language_info": {
   "codemirror_mode": {
    "name": "ipython",
    "version": 3
   },
   "file_extension": ".py",
   "mimetype": "text/x-python",
   "name": "python",
   "nbconvert_exporter": "python",
   "pygments_lexer": "ipython3",
   "version": "3.4.6"
  }
 },
 "nbformat": 4,
 "nbformat_minor": 2
}
