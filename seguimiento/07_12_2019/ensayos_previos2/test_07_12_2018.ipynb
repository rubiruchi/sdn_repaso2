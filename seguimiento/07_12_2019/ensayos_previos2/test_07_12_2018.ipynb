{
 "cells": [
  {
   "cell_type": "markdown",
   "metadata": {},
   "source": [
    "# Informe de pruebas "
   ]
  },
  {
   "cell_type": "markdown",
   "metadata": {},
   "source": [
    "## Test 1 "
   ]
  },
  {
   "cell_type": "markdown",
   "metadata": {},
   "source": [
    "### Topologia"
   ]
  },
  {
   "cell_type": "markdown",
   "metadata": {},
   "source": [
    "**Archivo de trabajo**: test1.pcap.gz"
   ]
  },
  {
   "cell_type": "markdown",
   "metadata": {},
   "source": [
    "### Pruebas realizadas"
   ]
  },
  {
   "cell_type": "markdown",
   "metadata": {},
   "source": [
    "1. **iperf** entre h1 y h8\n",
    "\n",
    "```\n",
    "containernet> iperf h1 h8\n",
    "\n",
    "*** Iperf: testing TCP bandwidth between h1 and h8 \n",
    "*** Results: ['9.57 Mbits/sec', '10.1 Mbits/sec']\n",
    "```\n",
    "\n",
    "2. **ping** entre h1 y h8\n",
    "\n",
    "```\n",
    "containernet> h4 ping -c 4 h8\n",
    "PING 10.0.0.8 (10.0.0.8) 56(84) bytes of data.\n",
    "64 bytes from 10.0.0.8: icmp_seq=1 ttl=64 time=7.88 ms\n",
    "64 bytes from 10.0.0.8: icmp_seq=2 ttl=64 time=0.550 ms\n",
    "64 bytes from 10.0.0.8: icmp_seq=3 ttl=64 time=0.133 ms\n",
    "64 bytes from 10.0.0.8: icmp_seq=4 ttl=64 time=0.095 ms\n",
    "\n",
    "--- 10.0.0.8 ping statistics ---\n",
    "4 packets transmitted, 4 received, 0% packet loss, time 3036ms\n",
    "rtt min/avg/max/mdev = 0.095/2.165/7.885/3.307 ms\n",
    "```"
   ]
  },
  {
   "cell_type": "markdown",
   "metadata": {},
   "source": [
    "### Graficas "
   ]
  },
  {
   "cell_type": "markdown",
   "metadata": {},
   "source": [
    "### Grafica iperf ###\n",
    "\n",
    "**Filtro 1**: \n",
    "\n",
    "```\n",
    "tcp\n",
    "```\n",
    "\n",
    "![iperf h1-h8](iperf_h1_h8.png)\n",
    "\n",
    "**Filtro 2**: \n",
    "\n",
    "```\n",
    "icmp && icmp.type == 8 && ip.src == 10.0.0.4 && ip.dst == 10.0.0.8\n",
    "icmp && icmp.type == 0 && ip.src == 10.0.0.8 && ip.dst == 10.0.0.4\n",
    "```\n",
    "\n",
    "![ping h1-h4](ping_h1_h4.png)\n",
    "\n",
    "\n",
    "**Conversacion h1-h8 iperf**\n",
    "\n",
    "![conv_h1_h8_iperf](conv_h1_h8.png)\n",
    "\n",
    "**Conversacion h4-h8 ping**\n",
    "\n",
    "![conv_ping_h4_h8](conv_ping_h4_h8.png)\n",
    "\n",
    "### Monitoreanto jitter and delay ###\n",
    "\n",
    "\n"
   ]
  },
  {
   "cell_type": "markdown",
   "metadata": {},
   "source": [
    "## Test 2 ##"
   ]
  },
  {
   "cell_type": "markdown",
   "metadata": {},
   "source": [
    "### Topologia"
   ]
  },
  {
   "cell_type": "markdown",
   "metadata": {},
   "source": [
    "**Archivo de trabajo**: traza_flood.pcap.gz"
   ]
  },
  {
   "cell_type": "markdown",
   "metadata": {},
   "source": [
    "**Salidas en consola**: \n",
    "\n",
    "\n",
    "\n",
    "**Servidor iperf (h8)**\n",
    "\n",
    "```\n",
    "root@fuck-pc:~/Documents/tesis_2018-2/trazas/sdn_repaso2/07_12_2019# iperf -s -\n",
    "p 5566 -i 1\n",
    "------------------------------------------------------------\n",
    "Server listening on TCP port 5566\n",
    "TCP window size: 85.3 KByte (default)\n",
    "------------------------------------------------------------\n",
    "[ 28] local 10.0.0.8 port 5566 connected with 10.0.0.4 port 49972\n",
    "[ ID] Interval       Transfer     Bandwidth\n",
    "[ 28]  0.0- 1.0 sec  1.14 MBytes  9.60 Mbits/sec\n",
    "[ 28]  1.0- 2.0 sec  1.14 MBytes  9.55 Mbits/sec\n",
    "[ 28]  2.0- 3.0 sec  1.14 MBytes  9.56 Mbits/sec\n",
    "[ 28]  3.0- 4.0 sec  1.14 MBytes  9.58 Mbits/sec\n",
    "[ 28]  4.0- 5.0 sec  1.14 MBytes  9.57 Mbits/sec\n",
    "[ 28]  5.0- 6.0 sec  1.14 MBytes  9.57 Mbits/sec\n",
    "[ 28]  6.0- 7.0 sec  1.14 MBytes  9.55 Mbits/sec\n",
    "[ 28]  7.0- 8.0 sec  1.14 MBytes  9.57 Mbits/sec\n",
    "```\n",
    "\n",
    "**Cliente iperf (h4)**\n",
    "\n",
    "```\n",
    "root@fuck-pc:~/Documents/tesis_2018-2/trazas/sdn_repaso2/07_12_2019# iperf -c 1\n",
    "0.0.0.8 -p 5566 -t 20 \n",
    "------------------------------------------------------------\n",
    "Client connecting to 10.0.0.8, TCP port 5566\n",
    "TCP window size: 85.3 KByte (default)\n",
    "------------------------------------------------------------\n",
    "[ 27] local 10.0.0.4 port 49972 connected with 10.0.0.8 port 5566\n",
    "```\n",
    "\n",
    "**Servidor atacante (h1)**\n",
    "\n",
    "```\n",
    "root@fuck-pc:~/Documents/tesis_2018-2/trazas/sdn_repaso2/07_12_2019# hping3 --f\n",
    "lood 10.0.0.5\n",
    "HPING 10.0.0.5 (h1-eth0 10.0.0.5): NO FLAGS are set, 40 headers + 0 data bytes\n",
    "hping in flood mode, no replies will be shown\n",
    "^C\n",
    "--- 10.0.0.5 hping statistic ---\n",
    "571020 packets transmitted, 0 packets received, 100% packet loss\n",
    "round-trip min/avg/max = 0.0/0.0/0.0 ms\n",
    "root@fuck-pc:~/Documents/tesis_2018-2/trazas/sdn_repaso2/07_12_2019\n",
    "```\n"
   ]
  },
  {
   "cell_type": "markdown",
   "metadata": {},
   "source": [
    "### Graficas ###\n",
    "\n",
    "**Filtros**\n",
    "\n",
    "```\n",
    "# iperf (grafica negra)\n",
    "tcp && ip.addr==10.0.0.4 && ip.addr==10.0.0.8\n",
    "```\n",
    "\n",
    "```\n",
    "# flood (grafica roja)\n",
    "tcp && ip.addr==10.0.0.5\n",
    "```\n",
    "\n",
    "Las unidades de la captura son en bps.\n",
    "\n",
    "![grafica](flood_iperf.png)"
   ]
  },
  {
   "cell_type": "markdown",
   "metadata": {},
   "source": [
    "### Preguntas ###\n",
    "1. ¿Será necesario usar iperf para mediciones?, aun esto me tiene enredado."
   ]
  },
  {
   "cell_type": "markdown",
   "metadata": {},
   "source": [
    "## Enlaces "
   ]
  },
  {
   "cell_type": "markdown",
   "metadata": {},
   "source": [
    "1. https://www.sd-wan-experts.com/blog/iperf-bandwidth-testing/\n",
    "2. http://networkstatic.net/measuring-network-bandwidth-using-iperf-and-docker/\n"
   ]
  },
  {
   "cell_type": "code",
   "execution_count": null,
   "metadata": {},
   "outputs": [],
   "source": []
  }
 ],
 "metadata": {
  "kernelspec": {
   "display_name": "Python 2",
   "language": "python",
   "name": "python2"
  },
  "language_info": {
   "codemirror_mode": {
    "name": "ipython",
    "version": 3
   },
   "file_extension": ".py",
   "mimetype": "text/x-python",
   "name": "python",
   "nbconvert_exporter": "python",
   "pygments_lexer": "ipython3",
   "version": "3.4.6"
  }
 },
 "nbformat": 4,
 "nbformat_minor": 2
}
