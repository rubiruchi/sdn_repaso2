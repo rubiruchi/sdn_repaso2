{
 "cells": [
  {
   "cell_type": "markdown",
   "metadata": {},
   "source": [
    "# Analisis sencillo 3"
   ]
  },
  {
   "cell_type": "markdown",
   "metadata": {},
   "source": [
    "## Pasos previos ##\n",
    "\n",
    "### Instalacion y uso de xplico ###\n",
    "\n",
    "1. Instalar [xplico](https://www.xplico.org/). En el siguiente [enlace](http://xylos.wikidot.com/howto-linux-runxplico) se muestran los pasos necesarios para la instalación y arranque de la herramienta.\n",
    "2. Corra los sevicios necesarios\n",
    "\n",
    "```\n",
    "sudo service apache2 start\n",
    "sudo service xplico start\n",
    "```\n",
    "\n",
    "3. Acceda en el browser:\n",
    "\n",
    "\n",
    "```\n",
    "http://localhost:9876/\n",
    "```\n",
    "\n",
    "4. Logeese:\n",
    "   * **Usuario normal**: u --> xplico; p --> xplico\n",
    "   * **Usuario poderoso**: u --> admin; p --> xplico\n",
    "   \n",
    "   \n",
    "### Instalacion y uso de capanalysis ###\n",
    "1. En la siguiente [pagina](https://www.capanalysis.net/ca/how-to-install-capanalysis) se encuentran las instrucciones de instalación.\n"
   ]
  },
  {
   "cell_type": "code",
   "execution_count": null,
   "metadata": {},
   "outputs": [],
   "source": []
  }
 ],
 "metadata": {
  "kernelspec": {
   "display_name": "Python 2",
   "language": "python",
   "name": "python2"
  },
  "language_info": {
   "codemirror_mode": {
    "name": "ipython",
    "version": 3
   },
   "file_extension": ".py",
   "mimetype": "text/x-python",
   "name": "python",
   "nbconvert_exporter": "python",
   "pygments_lexer": "ipython3",
   "version": "3.4.6"
  }
 },
 "nbformat": 4,
 "nbformat_minor": 2
}
