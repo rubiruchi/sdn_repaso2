{
 "cells": [
  {
   "cell_type": "markdown",
   "metadata": {},
   "source": [
    "# Trabajando con graficas"
   ]
  },
  {
   "cell_type": "markdown",
   "metadata": {},
   "source": [
    "## Introduccion ##\n",
    "A continuación se van a replicar algunos de los ejercicios del libro throbleshooting wireshark con el fin de entender mejor el uso de la herramienta y de sacar graficas para armar discusiones con el fin de filtrar las mas importantes para analisis posteriores."
   ]
  },
  {
   "cell_type": "markdown",
   "metadata": {},
   "source": [
    "### Escenario 1 ### \n",
    "\n",
    "**tr-twohosts.pcapng**: Contiene el trafico a y desde dos hosts. Un host realiza descarfas a velocidades lentas desde un site mientras que el otro no.\n",
    "\n",
    "**Pasos**:\n",
    "1. Abrir archivo.\n",
    "2. Determinar IPs: **con Statistics > Conversations** de acuerdo a las conversaciones (flujos) arrojadas determinar las IPs.\n",
    "3. Realizar la grafica: **Statistics > IO Graph** para graficar y cacharrear. La grafica negra no tiene filtros.\n",
    "4. Emplear los filtros:\n",
    "   1. Grafica roja: ``ip.addr==192.168.1.72``\n",
    "   2. Grafica azul: ``ip.addr==192.168.1.119``\n",
    "\n",
    "![grafica1](two_hosts.png)\n",
    "\n",
    "Se puede ver un mejor throughput entre los dos proceso de descarga La descarga hecha por 192.168.1.72 se completa mas rapidamente que la de 192.168.1.119."
   ]
  },
  {
   "cell_type": "markdown",
   "metadata": {},
   "source": [
    "### Escenario 2  - Graficando todo el trafico para una unica aplicacion. ###\n",
    "\n",
    "**tr-ftphttp.pcapng**: Contiene el trafico FTP (incluyendo comandos FTP ytransferencia de datos) y HTTP (basado en los numeros de puerto en uso). \n",
    "\n",
    "**Pasos**\n",
    "1. Ver conversaciones: **Statistics > Conversations > TCP** y deseleccione el chechbox **Name resulution**. Observe los puertos usados:\n",
    "   1. Trafico HTTP: 80.\n",
    "   1. Trafico FTP: 21.\n",
    "   1. Canal de datos FTP: 22487. \n",
    "   \n",
    "2. Filtros empleados:\n",
    "   1. Grafica roja: ``tcp.port==80`` (line style)\n",
    "   2. Grafica azul: ``tcp.port==21 or tcp.port==22487`` (Impulse style)\n",
    "\n",
    "![grafica2](ftp_http1.png)\n",
    "\n",
    "**Nota**: Las tasas de trafico pico hacen dificil ver si hay una baja tasa de trafico en puntos del archivo de trazas. Aplicar escalas logaritmicas ayuda a visualizar bajas escalas logaritmicas.\n",
    "\n",
    "\n",
    "![grafica3](ftp_http2_log.png)\n",
    "\n",
    "\n",
    "**Tip**: Cuando grafique dos numeros disparados, fije la escala del eje Y a escala logaritmica para ver los numeros mas pequeños a lo largo  de los numeros mas grandes.\n",
    "\n",
    "\n",
    "\n",
    "**¿Que interpretaciones podemos sacar?**\n",
    "1. Tamaño.\n",
    "2. Por cuanto tiempo.\n",
    "3. etc."
   ]
  },
  {
   "cell_type": "markdown",
   "metadata": {},
   "source": [
    "### Escenario 3 -  Detect Consistently Low Throughput due to Low Packet Sizes ###\n",
    "\n",
    "**Contexto**:\n",
    "Los Low packet sizes pueden ser causados por una aplicacion que intencionalmente dese transferir cantidades mas pequeñas de datos. Los Low packet sizes tambien pueden ser un indicatos de un bajo Maximum Segment Size (MSS) asignado. Un bajo MSS puede ser debido a una misconfiguration en el cliente o aun en una funcionalidad adicional.\n",
    "\n",
    "**tr-throughput.pcapng**: esta traza consiste de una conexion HTTPs entre dos host. Como no es necesario desencriptar el codigo, solo se puede hanalizar hasta el punto de la capa TCP.\n",
    "\n",
    "**Pasos**:\n",
    "1. Muevase por la traza y observe los tamaños de la columna **length** para cada paquete. Se notara que hay muchos paquetes de pequeña longitud\n",
    "2. En los paquetes 1 y 2 (donde se hace parte del handshake) vaya a la parte asociada al componente TCP y busque el valor que se asigno en MSS (en el campo options de la cabecera TCP). Para el caso 1460 bytes. **COnclusion**: El problema no es po un bajo valor de MSS.\n",
    "3. Realizar la grafica: **Statistics > IO Graph** (Colocar la escala del eje Y a 2000)\n",
    "\n",
    "![caso3_grafica1](caso3_gr1.png)\n",
    "\n",
    "La transferencia de datos tiene picos alrededor de los 1900 bps.\n",
    "\n",
    "4. Obtener el resumen: **Statistics > Summary**\n",
    "\n",
    "![caso3_grafica2](summary.png)\n",
    "\n",
    "Aqui el **average packet size in the trace file** es aproximadamente 145 bytes (pero estos incluyen los paquetes con ACK).\n",
    "\n",
    "![caso3_grafica3](summary2.png)\n",
    "\n",
    "En la figura anterior se aplico un filtro para **average data packet size** y es ``tcp.len > 0`` con esto se ven los paquetes que contienen solo datos. En el caso el resultado es 213 bytes.\n",
    "\n",
    "**Conclusiones**:\n",
    "Why are smaller packets being used? We identified that it isn't a limitation defined by the TCP\n",
    "connection. This is likely an application setting. We must look at the application to determine if this is\n",
    "intentional or a configuration problem."
   ]
  },
  {
   "cell_type": "markdown",
   "metadata": {},
   "source": [
    "### Escenario 4 - Identify Queuing Delays along a Path ###\n",
    "\n",
    "**Contexto**:\n",
    "Interconectar dispositivos pueden inyectar retardos al queuing (holding the packets temporarily before\n",
    "forwarding them) a lo largo de la ruta.\n",
    "\n",
    "Consider using a traffic generator to detect queuing along a path. A tool such as iPerf/jPerf can be\n",
    "used to transmit traffic at a steady rate. We need that steady rate of transmission to identify distinct\n",
    "queuing patterns when you capture traffic on the other side of a queuing device. In the next lab, we will look at the IO Graph indication of traffic that has been queued along the path.\n",
    "\n",
    "**Objetivo**: Identify the Queued Traffic Pattern in an IO Graph\n",
    "\n",
    "**tr-queuing.pcapng**: Contiene un video multicas que transmite paquetes a una direccion multicas 239.255.0.1\n",
    "\n",
    "**Pasos**:\n",
    "\n",
    "1. Realizar la grafica: **Statistics > IO Graph** "
   ]
  },
  {
   "cell_type": "code",
   "execution_count": null,
   "metadata": {},
   "outputs": [],
   "source": []
  }
 ],
 "metadata": {
  "kernelspec": {
   "display_name": "Python 2",
   "language": "python",
   "name": "python2"
  },
  "language_info": {
   "codemirror_mode": {
    "name": "ipython",
    "version": 3
   },
   "file_extension": ".py",
   "mimetype": "text/x-python",
   "name": "python",
   "nbconvert_exporter": "python",
   "pygments_lexer": "ipython3",
   "version": "3.4.6"
  }
 },
 "nbformat": 4,
 "nbformat_minor": 2
}
